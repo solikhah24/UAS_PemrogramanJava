{
 "cells": [
  {
   "cell_type": "markdown",
   "metadata": {},
   "source": []
  },
  {
   "cell_type": "markdown",
   "metadata": {},
   "source": [
    "### Project UTS SI-S1\n",
    "\n",
    "1. Rancang sebuah *Class* bangun ruang **Bola** dengan kemampuan menghitung Volume dari bangun ruang tersebut.\n",
    "2. Buatlah sebuah aplikasi untuk implementasi class dari *point no 1* dalam jupyter notebook ini\n",
    "3. Lakukan rancang kompunen-kompunen yang dibutuhkan\n",
    "4. Lakukan *Enskapsulasi* dari class pada *point no 1* \n",
    "5. Berikan penjelasan dari kode yang anda buat (dalam notebook tersebut).\n",
    "6. Lakukan Eksekusi / *Run* sebelum upload ke github.\n",
    "\n",
    "• **Upload File Notebook ini** (*.ipynb) ke folder github anda paling lambat pada saat jadwal UTS."
   ]
  },
  {
   "cell_type": "code",
   "execution_count": null,
   "metadata": {},
   "outputs": [],
   "source": [
    "<p>Masukkan nilai jari-jari bola.</p>\n",
    "<form action=\"volume-bola.php\" method=\"post\">\n",
    "\tJari : <input type=\"text\" name=\"jari2\"><br><br>\n",
    "\t<input type=\"submit\" name=\"submit\" value=\"Hitung\">\n",
    "</form>\n",
    " \n",
    "<?php\n",
    "\tif(isset($_POST['submit'])){\n",
    "\t\t$jari = $_POST['jari2'];\n",
    "\t\t$phi = 22/7;\n",
    "\t\t\n",
    "\t\t$volume = 4/3 * $phi * $jari * $jari * $jari; // Menghitung volume\n",
    "\t\t\n",
    "\t\techo \"Bola yang memiliki jari - jari : $jari<br>\";\n",
    "\t\techo \"Maka memiliki volume: $volume\";\n",
    "\t}\n",
    "?>\n"
   ]
  }
 ],
 "metadata": {
  "kernelspec": {
   "display_name": "Java",
   "language": "java",
   "name": "java"
  },
  "language_info": {
   "codemirror_mode": "text/x-java",
   "file_extension": ".java",
   "mimeid": "419",
   "mimetype": "",
   "name": "Java",
   "nbconverter_exporter": "",
   "version": "1.8.0_221"
  }
 },
 "nbformat": 4,
 "nbformat_minor": 4
}
